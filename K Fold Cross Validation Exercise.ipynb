{
 "cells": [
  {
   "cell_type": "markdown",
   "id": "a3e9bb83-ad4b-44fd-aa80-aa172176f639",
   "metadata": {},
   "source": [
    "# Exercise"
   ]
  },
  {
   "cell_type": "markdown",
   "id": "51e9ce8d-8185-4fa3-954d-7addcf42c221",
   "metadata": {},
   "source": [
    "# Use iris Dataset from sklearn liberary and use cross_val_score against the followeing models to measure the performance of each.\n",
    "# In the end figure out the model with best performance\n",
    "\n",
    "# 1-Logistic Regression\n",
    "# 2-SVM\n",
    "# 3-Random Forest"
   ]
  },
  {
   "cell_type": "code",
   "execution_count": 1,
   "id": "2f9faa21-a24b-408a-9be9-4236ed8a474b",
   "metadata": {},
   "outputs": [],
   "source": [
    "from sklearn.datasets import load_iris\n",
    "from sklearn.model_selection import cross_val_score\n",
    "from sklearn.linear_model import LogisticRegression\n",
    "from sklearn.tree import DecisionTreeClassifier\n",
    "from sklearn.svm import SVC\n",
    "from sklearn.ensemble import RandomForestClassifier\n",
    "import numpy as np"
   ]
  },
  {
   "cell_type": "code",
   "execution_count": 3,
   "id": "6d1f9cac-622f-4805-96bf-01b4f83c15d9",
   "metadata": {},
   "outputs": [],
   "source": [
    "iris = load_iris()"
   ]
  },
  {
   "cell_type": "markdown",
   "id": "cfdbc4db-cb87-4c2b-abd4-c1d8ffa54894",
   "metadata": {},
   "source": [
    "# Logistic Regression"
   ]
  },
  {
   "cell_type": "code",
   "execution_count": 4,
   "id": "21b53b17-d63d-4d31-8945-6935f0486388",
   "metadata": {},
   "outputs": [],
   "source": [
    "Lo = LogisticRegression()"
   ]
  },
  {
   "cell_type": "code",
   "execution_count": 8,
   "id": "f989056d-f9f5-4658-9ee4-4fea7ba3cc7a",
   "metadata": {},
   "outputs": [
    {
     "name": "stderr",
     "output_type": "stream",
     "text": [
      "C:\\Users\\User\\AppData\\Local\\Programs\\Python\\Python312\\Lib\\site-packages\\sklearn\\linear_model\\_logistic.py:469: ConvergenceWarning: lbfgs failed to converge (status=1):\n",
      "STOP: TOTAL NO. of ITERATIONS REACHED LIMIT.\n",
      "\n",
      "Increase the number of iterations (max_iter) or scale the data as shown in:\n",
      "    https://scikit-learn.org/stable/modules/preprocessing.html\n",
      "Please also refer to the documentation for alternative solver options:\n",
      "    https://scikit-learn.org/stable/modules/linear_model.html#logistic-regression\n",
      "  n_iter_i = _check_optimize_result(\n"
     ]
    },
    {
     "data": {
      "text/plain": [
       "array([0.96666667, 1.        , 0.93333333, 0.96666667, 1.        ])"
      ]
     },
     "execution_count": 8,
     "metadata": {},
     "output_type": "execute_result"
    }
   ],
   "source": [
    "l_score = cross_val_score(LogisticRegression(), iris.data, iris.target)\n",
    "l_score"
   ]
  },
  {
   "cell_type": "code",
   "execution_count": 9,
   "id": "c869598e-2d06-4247-9f85-0f47bdefc90c",
   "metadata": {},
   "outputs": [
    {
     "data": {
      "text/plain": [
       "np.float64(0.9733333333333334)"
      ]
     },
     "execution_count": 9,
     "metadata": {},
     "output_type": "execute_result"
    }
   ],
   "source": [
    "np.mean(l_score)"
   ]
  },
  {
   "cell_type": "markdown",
   "id": "920c1af6-0387-4405-838a-0da478756123",
   "metadata": {},
   "source": [
    "# Decision Tree"
   ]
  },
  {
   "cell_type": "code",
   "execution_count": 10,
   "id": "cbe9e625-8fad-4d89-9d41-4105b32403f9",
   "metadata": {},
   "outputs": [
    {
     "data": {
      "text/plain": [
       "array([0.96666667, 0.96666667, 0.9       , 0.96666667, 1.        ])"
      ]
     },
     "execution_count": 10,
     "metadata": {},
     "output_type": "execute_result"
    }
   ],
   "source": [
    "d_score = cross_val_score(DecisionTreeClassifier(), iris.data, iris.target)\n",
    "d_score"
   ]
  },
  {
   "cell_type": "code",
   "execution_count": 11,
   "id": "d1773ff5-2745-4e6f-9924-3a0a03539862",
   "metadata": {},
   "outputs": [
    {
     "data": {
      "text/plain": [
       "np.float64(0.9600000000000002)"
      ]
     },
     "execution_count": 11,
     "metadata": {},
     "output_type": "execute_result"
    }
   ],
   "source": [
    "np.mean(d_score)"
   ]
  },
  {
   "cell_type": "markdown",
   "id": "ad53b50c-7ca2-417e-834d-6365fdcf56d8",
   "metadata": {},
   "source": [
    "# Support Vector Machine (SVM)"
   ]
  },
  {
   "cell_type": "code",
   "execution_count": 12,
   "id": "8c664703-d872-4f35-aa66-37c89b87accf",
   "metadata": {},
   "outputs": [
    {
     "data": {
      "text/plain": [
       "array([0.96666667, 0.96666667, 0.96666667, 0.93333333, 1.        ])"
      ]
     },
     "execution_count": 12,
     "metadata": {},
     "output_type": "execute_result"
    }
   ],
   "source": [
    "s_score = cross_val_score(SVC(), iris.data, iris.target)\n",
    "s_score"
   ]
  },
  {
   "cell_type": "code",
   "execution_count": 13,
   "id": "0b16c8b7-e695-43e1-96af-616b68553ddd",
   "metadata": {},
   "outputs": [
    {
     "data": {
      "text/plain": [
       "np.float64(0.9666666666666666)"
      ]
     },
     "execution_count": 13,
     "metadata": {},
     "output_type": "execute_result"
    }
   ],
   "source": [
    "np.mean(s_score)"
   ]
  },
  {
   "cell_type": "markdown",
   "id": "a8c31ba5-27d5-4d1c-8628-b97ab08889ef",
   "metadata": {},
   "source": [
    "# Random Forest"
   ]
  },
  {
   "cell_type": "code",
   "execution_count": 14,
   "id": "629a0db9-980c-4072-a2eb-295948a71304",
   "metadata": {},
   "outputs": [
    {
     "data": {
      "text/plain": [
       "np.float64(0.96)"
      ]
     },
     "execution_count": 14,
     "metadata": {},
     "output_type": "execute_result"
    }
   ],
   "source": [
    "rf_score=cross_val_score(RandomForestClassifier(), iris.data, iris.target)\n",
    "np.mean(rf_score)"
   ]
  },
  {
   "cell_type": "code",
   "execution_count": null,
   "id": "cc57cb41-623b-4eed-8222-e0d280fd1ebd",
   "metadata": {},
   "outputs": [],
   "source": []
  },
  {
   "cell_type": "code",
   "execution_count": null,
   "id": "0caa99f7-83fd-498a-9a6d-cd99ab42ebc0",
   "metadata": {},
   "outputs": [],
   "source": []
  },
  {
   "cell_type": "code",
   "execution_count": null,
   "id": "862c3dc1-e8ca-47bd-91c4-2b2772487bf5",
   "metadata": {},
   "outputs": [],
   "source": []
  },
  {
   "cell_type": "code",
   "execution_count": null,
   "id": "126460e0-2162-40ab-82b2-dd415ab1280a",
   "metadata": {},
   "outputs": [],
   "source": []
  }
 ],
 "metadata": {
  "kernelspec": {
   "display_name": "Python 3 (ipykernel)",
   "language": "python",
   "name": "python3"
  },
  "language_info": {
   "codemirror_mode": {
    "name": "ipython",
    "version": 3
   },
   "file_extension": ".py",
   "mimetype": "text/x-python",
   "name": "python",
   "nbconvert_exporter": "python",
   "pygments_lexer": "ipython3",
   "version": "3.12.5"
  }
 },
 "nbformat": 4,
 "nbformat_minor": 5
}
