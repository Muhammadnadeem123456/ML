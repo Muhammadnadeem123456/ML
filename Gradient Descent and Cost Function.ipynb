{
 "cells": [
  {
   "cell_type": "code",
   "execution_count": 1,
   "id": "3789fc8d-205a-4e95-98df-8a16430963d1",
   "metadata": {},
   "outputs": [],
   "source": [
    "import numpy as np "
   ]
  },
  {
   "cell_type": "code",
   "execution_count": 13,
   "id": "a920f78e-ca22-4d06-8be4-56cee3027795",
   "metadata": {},
   "outputs": [
    {
     "name": "stdout",
     "output_type": "stream",
     "text": [
      "m -3.1, b -0.9, cost 89.0, iteration 10\n",
      "m -9.88, b -2.8200000000000003, cost 420.6600000000001, iteration 10\n",
      "m -24.694000000000003, b -6.966000000000001, cost 2001.2004000000002, iteration 10\n",
      "m -57.04720000000001, b -15.970800000000002, cost 9533.781576000001, iteration 10\n",
      "m -127.69036000000003, b -35.582040000000006, cost 45433.21708944002, iteration 10\n",
      "m -281.9243680000001, b -78.34735200000001, cost 216526.3699995937, iteration 10\n",
      "m -618.6453784000003, b -171.65939760000003, cost 1031939.8788940473, iteration 10\n",
      "m -1353.7531139200005, b -375.3189508800001, cost 4918122.735679478, iteration 10\n",
      "m -2958.5772244960012, b -819.8767801440003, cost 23439299.36779955, iteration 10\n",
      "m -6462.075205484803, b -1790.3376255072008, cost 111709460.24271467, iteration 10\n"
     ]
    }
   ],
   "source": [
    "import numpy as np \n",
    "def gradiet_decent(x, y):\n",
    "    m_curr, b_curr=0, 0\n",
    "    iteration=10\n",
    "    n=len(x)\n",
    "    learning_rate=0.05\n",
    "    for i in range(iteration):\n",
    "        yp=m_curr*x+b_curr\n",
    "        cost=(1/n)*sum([val**2 for val in (y-yp)])\n",
    "        # take derivatives....\n",
    "        md=(2/n)*sum(x*(y-yp))\n",
    "        bd=(2/n)*sum(y-yp)\n",
    "        m_curr=m_curr-learning_rate*md\n",
    "        b_curr=b_curr-learning_rate*bd\n",
    "        print(f\"m {m_curr}, b {b_curr}, cost {cost}, iteration {iteration}\")\n",
    "\n",
    "x=np.array([1, 2, 3, 4, 5])\n",
    "y=np.array([5, 7, 9, 11, 13])\n",
    "gradiet_decent(x, y)"
   ]
  },
  {
   "cell_type": "code",
   "execution_count": null,
   "id": "99d05f36-bf92-4a79-a659-51f597799981",
   "metadata": {},
   "outputs": [],
   "source": []
  },
  {
   "cell_type": "code",
   "execution_count": null,
   "id": "e19a4dd8-4853-4fe4-bd31-8432d0f4858f",
   "metadata": {},
   "outputs": [],
   "source": []
  },
  {
   "cell_type": "code",
   "execution_count": null,
   "id": "00bfd86c-53c9-4d0e-8a33-34e292901578",
   "metadata": {},
   "outputs": [],
   "source": []
  },
  {
   "cell_type": "code",
   "execution_count": null,
   "id": "a9a7319b-adaa-4ca4-8b64-3c98834c89cd",
   "metadata": {},
   "outputs": [],
   "source": []
  },
  {
   "cell_type": "code",
   "execution_count": null,
   "id": "78d89059-5b5d-4fda-bd58-c9a03dd4c7a0",
   "metadata": {},
   "outputs": [],
   "source": []
  },
  {
   "cell_type": "code",
   "execution_count": null,
   "id": "c443058c-13b5-49a0-b362-75be1eb66b44",
   "metadata": {},
   "outputs": [],
   "source": []
  },
  {
   "cell_type": "code",
   "execution_count": null,
   "id": "0f54993c-16f0-48d6-bb91-07d6025046d7",
   "metadata": {},
   "outputs": [],
   "source": []
  },
  {
   "cell_type": "code",
   "execution_count": null,
   "id": "79c3a967-ae30-441a-a269-62270e75fea2",
   "metadata": {},
   "outputs": [],
   "source": []
  },
  {
   "cell_type": "code",
   "execution_count": null,
   "id": "80d8c96a-c80b-4b1a-93dd-6a6febca10a0",
   "metadata": {},
   "outputs": [],
   "source": []
  },
  {
   "cell_type": "code",
   "execution_count": null,
   "id": "a260abc6-b87c-485a-b501-c21aee21e40c",
   "metadata": {},
   "outputs": [],
   "source": []
  },
  {
   "cell_type": "code",
   "execution_count": null,
   "id": "6c865ae9-fea8-4286-a34f-9e9a4767dd36",
   "metadata": {},
   "outputs": [],
   "source": []
  },
  {
   "cell_type": "code",
   "execution_count": null,
   "id": "6d1726ee-9ed3-42f0-9706-d051004626c1",
   "metadata": {},
   "outputs": [],
   "source": []
  }
 ],
 "metadata": {
  "kernelspec": {
   "display_name": "Python 3 (ipykernel)",
   "language": "python",
   "name": "python3"
  },
  "language_info": {
   "codemirror_mode": {
    "name": "ipython",
    "version": 3
   },
   "file_extension": ".py",
   "mimetype": "text/x-python",
   "name": "python",
   "nbconvert_exporter": "python",
   "pygments_lexer": "ipython3",
   "version": "3.12.5"
  }
 },
 "nbformat": 4,
 "nbformat_minor": 5
}
